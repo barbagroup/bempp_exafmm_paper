{
 "cells": [
  {
   "cell_type": "markdown",
   "metadata": {},
   "source": [
    "## Solvation energy of a Zika virus\n",
    "\n",
    "We present a more challenging problem that studies the solvation energy of the Zika virus (PDB code 6CO8).\n",
    "We ran this experiment on a single CPU node of Pegasus, and the raw result files are located at `/repro-pack/runs/6CO8`.\n",
    "This notebook shows how we generated the results in section 3.5, excluding the surface plot produced by ParaView.\n",
    "We downloaded the molecular structure from the Protein Data Bank (PDB), parameterized it with the amber force field, and generated a mesh on the solvent-excluded surface using Nanoshaper.\n",
    "The prepared structure contains about 1.6 million atoms and our mesh has around 10 million boundary elements.\n",
    "In this experiment, 3 quadrature points were used for regular Galerkin integrals over disjoint elements. The FMM expansion order was 4 and the tolerance of GMRES was $10^{-4}$."
   ]
  },
  {
   "cell_type": "code",
   "execution_count": 1,
   "metadata": {},
   "outputs": [],
   "source": [
    "import pandas as pd\n",
    "import numpy as np\n",
    "from matplotlib import pyplot as plt\n",
    "from bempp_pbs.postprocess import PLOT_PARAMS, get_df"
   ]
  },
  {
   "cell_type": "markdown",
   "metadata": {},
   "source": [
    "**load results**\n",
    "\n",
    "Similar to the previous study, we obtained three sets of results:\n",
    "- `direct`: direct formulation with a block-diagonal preconditioner\n",
    "- `derivative`: derivative formulation with a mass-lumping preconditioner\n",
    "- `derivative_mass_matrix`: derivative formulation with a mass-matrix preconditioner"
   ]
  },
  {
   "cell_type": "code",
   "execution_count": 2,
   "metadata": {},
   "outputs": [
    {
     "data": {
      "text/html": [
       "<div>\n",
       "<style scoped>\n",
       "    .dataframe tbody tr th:only-of-type {\n",
       "        vertical-align: middle;\n",
       "    }\n",
       "\n",
       "    .dataframe tbody tr th {\n",
       "        vertical-align: top;\n",
       "    }\n",
       "\n",
       "    .dataframe thead th {\n",
       "        text-align: right;\n",
       "    }\n",
       "</style>\n",
       "<table border=\"1\" class=\"dataframe\">\n",
       "  <thead>\n",
       "    <tr style=\"text-align: right;\">\n",
       "      <th></th>\n",
       "      <th>t_total_assembly</th>\n",
       "      <th>t_total_gmres</th>\n",
       "      <th>num_iter</th>\n",
       "      <th>e_solv [kcal/Mol]</th>\n",
       "      <th>memory [GB]</th>\n",
       "      <th>t_fmm_init</th>\n",
       "      <th>t_singular_assembler</th>\n",
       "      <th>t_assemble_sparse</th>\n",
       "      <th>t_assembly_other</th>\n",
       "      <th>t_singular_correction</th>\n",
       "      <th>t_laplace</th>\n",
       "      <th>t_helmholtz</th>\n",
       "      <th>t_avg_laplace</th>\n",
       "      <th>t_avg_helmholtz</th>\n",
       "      <th>t_gmres_other</th>\n",
       "    </tr>\n",
       "  </thead>\n",
       "  <tbody>\n",
       "    <tr>\n",
       "      <th>direct</th>\n",
       "      <td>1534.450776</td>\n",
       "      <td>9470.869895</td>\n",
       "      <td>105</td>\n",
       "      <td>-116587.549968</td>\n",
       "      <td>109.725492</td>\n",
       "      <td>156.044683</td>\n",
       "      <td>466.436640</td>\n",
       "      <td>25.74</td>\n",
       "      <td>886.229454</td>\n",
       "      <td>791.160887</td>\n",
       "      <td>2130.213909</td>\n",
       "      <td>5670.189209</td>\n",
       "      <td>4.977135</td>\n",
       "      <td>13.248106</td>\n",
       "      <td>879.305890</td>\n",
       "    </tr>\n",
       "    <tr>\n",
       "      <th>derivative</th>\n",
       "      <td>3553.932997</td>\n",
       "      <td>4816.362144</td>\n",
       "      <td>18</td>\n",
       "      <td>-116254.861495</td>\n",
       "      <td>151.950672</td>\n",
       "      <td>148.309193</td>\n",
       "      <td>651.362527</td>\n",
       "      <td>98.26</td>\n",
       "      <td>2656.001277</td>\n",
       "      <td>367.972429</td>\n",
       "      <td>791.603687</td>\n",
       "      <td>2897.297981</td>\n",
       "      <td>4.947523</td>\n",
       "      <td>13.169536</td>\n",
       "      <td>759.488048</td>\n",
       "    </tr>\n",
       "    <tr>\n",
       "      <th>derivative_mass_matrix</th>\n",
       "      <td>7766.815987</td>\n",
       "      <td>5009.352236</td>\n",
       "      <td>17</td>\n",
       "      <td>-116255.417177</td>\n",
       "      <td>174.958108</td>\n",
       "      <td>151.262922</td>\n",
       "      <td>651.984174</td>\n",
       "      <td>98.07</td>\n",
       "      <td>6865.498891</td>\n",
       "      <td>460.615885</td>\n",
       "      <td>776.339616</td>\n",
       "      <td>2796.233184</td>\n",
       "      <td>5.107497</td>\n",
       "      <td>13.379106</td>\n",
       "      <td>976.163552</td>\n",
       "    </tr>\n",
       "  </tbody>\n",
       "</table>\n",
       "</div>"
      ],
      "text/plain": [
       "                        t_total_assembly  t_total_gmres  num_iter  \\\n",
       "direct                       1534.450776    9470.869895       105   \n",
       "derivative                   3553.932997    4816.362144        18   \n",
       "derivative_mass_matrix       7766.815987    5009.352236        17   \n",
       "\n",
       "                        e_solv [kcal/Mol]  memory [GB]  t_fmm_init  \\\n",
       "direct                     -116587.549968   109.725492  156.044683   \n",
       "derivative                 -116254.861495   151.950672  148.309193   \n",
       "derivative_mass_matrix     -116255.417177   174.958108  151.262922   \n",
       "\n",
       "                        t_singular_assembler  t_assemble_sparse  \\\n",
       "direct                            466.436640              25.74   \n",
       "derivative                        651.362527              98.26   \n",
       "derivative_mass_matrix            651.984174              98.07   \n",
       "\n",
       "                        t_assembly_other  t_singular_correction    t_laplace  \\\n",
       "direct                        886.229454             791.160887  2130.213909   \n",
       "derivative                   2656.001277             367.972429   791.603687   \n",
       "derivative_mass_matrix       6865.498891             460.615885   776.339616   \n",
       "\n",
       "                        t_helmholtz  t_avg_laplace  t_avg_helmholtz  \\\n",
       "direct                  5670.189209       4.977135        13.248106   \n",
       "derivative              2897.297981       4.947523        13.169536   \n",
       "derivative_mass_matrix  2796.233184       5.107497        13.379106   \n",
       "\n",
       "                        t_gmres_other  \n",
       "direct                     879.305890  \n",
       "derivative                 759.488048  \n",
       "derivative_mass_matrix     976.163552  "
      ]
     },
     "execution_count": 2,
     "metadata": {},
     "output_type": "execute_result"
    }
   ],
   "source": [
    "direct_df = get_df('../runs/6CO8/direct/', formulation='direct', skip4=True)\n",
    "derivative_df = get_df('../runs/6CO8/derivative_ex/', formulation='derivative', skip4=True)\n",
    "derivative_mass_matrix_df = get_df('../runs/6CO8/derivative_ex_mass_matrix/', formulation='derivative', skip4=True)\n",
    "\n",
    "zika_df = pd.concat([direct_df, derivative_df, derivative_mass_matrix_df])\n",
    "zika_df.index = ['direct', 'derivative', 'derivative_mass_matrix']\n",
    "zika_df"
   ]
  },
  {
   "cell_type": "markdown",
   "metadata": {},
   "source": [
    "To verify our result, we ran the same case with PyGBe using the direct formulation on a workstation with a 24-core CPU. The solvation energy computed from PyGBe is -117261.125498 [kcal/mol]."
   ]
  },
  {
   "cell_type": "markdown",
   "metadata": {},
   "source": [
    "-------\n",
    "\n",
    "### Appendix:\n",
    "\n",
    "To justify our choice of regular quadrature order, we ran the same case using the direct formulation with various quadrature orders. The results are summarized in the table below. These runs were performed on a different hardware, hence these timings are not comparable to the timings reported in the table above.\n",
    "\n",
    "| quadrature order |  # quadrature points | expansion order | tol  | e_solv     | gmres time (s) | # iter |\n",
    "|:----------------:|----------------------|-----------------|------|------------|----------------|--------|\n",
    "|         1        |          1           |       4         | 1e-4 | -123693.42 | 4149.30        | 105    |\n",
    "|         2        |          3           |       4         | 1e-4 | -116587.55 | 10786.23       | 105    |\n",
    "|         3        |          4           |       4         | 1e-4 | -116491.99 | 13273.08       | 105    |\n",
    "|         4        |          6           |       4         | 1e-4 | -116746.19 | 20891.13       | 105    |\n",
    "\n",
    "With 3 quadrature points (a quadrature order of 2), the solvation energy is -116587.55 [kcal/mol]. With 6 quadrature points (a quadrature order of 4), the solvation energy is -116746.19 [kcal/mol]. The relative difference between the two is 0.14%, indicating that using 3 quadrature points is adequate for the solvation energy calculation."
   ]
  },
  {
   "cell_type": "code",
   "execution_count": null,
   "metadata": {},
   "outputs": [],
   "source": []
  }
 ],
 "metadata": {
  "kernelspec": {
   "display_name": "Python 3",
   "language": "python",
   "name": "python3"
  },
  "language_info": {
   "codemirror_mode": {
    "name": "ipython",
    "version": 3
   },
   "file_extension": ".py",
   "mimetype": "text/x-python",
   "name": "python",
   "nbconvert_exporter": "python",
   "pygments_lexer": "ipython3",
   "version": "3.8.5"
  }
 },
 "nbformat": 4,
 "nbformat_minor": 4
}
