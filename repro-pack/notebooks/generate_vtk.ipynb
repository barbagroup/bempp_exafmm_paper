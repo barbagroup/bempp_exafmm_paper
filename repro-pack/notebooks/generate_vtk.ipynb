{
 "cells": [
  {
   "cell_type": "markdown",
   "metadata": {},
   "source": [
    "## Generate VTK file from Bempp's solution"
   ]
  },
  {
   "cell_type": "code",
   "execution_count": 1,
   "metadata": {},
   "outputs": [
    {
     "name": "stdout",
     "output_type": "stream",
     "text": [
      "Could not find Gmsh.Interactive plotting and shapes module not available.\n"
     ]
    }
   ],
   "source": [
    "import numpy as np\n",
    "import meshio\n",
    "from bempp_pbs import preprocess"
   ]
  },
  {
   "cell_type": "markdown",
   "metadata": {},
   "source": [
    "1. Convert potential unit to [kcal/(mol e)]"
   ]
  },
  {
   "cell_type": "code",
   "execution_count": 2,
   "metadata": {},
   "outputs": [],
   "source": [
    "eps0 = 8.8541878128e-12 # F/m\n",
    "coulomb_to_qe = 6.24150975e+18  # Coulomb to elementary charge\n",
    "m_to_angstrom = 1e10            # meter to Angstrom\n",
    "\n",
    "to_volt = m_to_angstrom / eps0 / coulomb_to_qe\n",
    "volt_to_kcalpermole = 23.061    # eV to kcal/mol, or V to kcal/(mol*e)\n",
    "\n",
    "coef = to_volt * volt_to_kcalpermole  # convert the unit of potential in bempp to kcal/(mol*e)"
   ]
  },
  {
   "cell_type": "markdown",
   "metadata": {},
   "source": [
    "2. Read in mesh files and generate grid"
   ]
  },
  {
   "cell_type": "code",
   "execution_count": 4,
   "metadata": {},
   "outputs": [],
   "source": [
    "face = '../mesh/surf_gs1.0_noter_split.face'  # .face file\n",
    "vert = '../mesh/surf_gs1.0_noter_split.vert'  # .vert file"
   ]
  },
  {
   "cell_type": "code",
   "execution_count": 5,
   "metadata": {},
   "outputs": [],
   "source": [
    "grid = preprocess.generate_grid(face, vert)   # use bempp to generate grid"
   ]
  },
  {
   "cell_type": "markdown",
   "metadata": {},
   "source": [
    "3. Read in solution file (.npy) from Bempp"
   ]
  },
  {
   "cell_type": "code",
   "execution_count": 6,
   "metadata": {},
   "outputs": [],
   "source": [
    "# read solution file\n",
    "result = np.load('../runs/6CO8/direct/solution.npy')\n",
    "potential = result[:len(result)//2] * coef\n",
    "# derivative = result[len(result)//2:]"
   ]
  },
  {
   "cell_type": "markdown",
   "metadata": {},
   "source": [
    "4. Write cell data to a VTK file"
   ]
  },
  {
   "cell_type": "code",
   "execution_count": 7,
   "metadata": {},
   "outputs": [],
   "source": [
    "# generate points, cells, cell_data to create vtk using meshio\n",
    "points = grid.vertices.T                      \n",
    "cells = [(\"triangle\", grid.elements.T.astype(\"int32\"))]\n",
    "cell_data = dict()\n",
    "cell_data['potential'] = [potential]\n",
    "# cell_data['derivative'] = [derivative]\n",
    "\n",
    "meshio.write_points_cells(\n",
    "    'zika.vtk',\n",
    "    points=points,\n",
    "    cells=cells,\n",
    "    cell_data=cell_data\n",
    ")"
   ]
  },
  {
   "cell_type": "markdown",
   "metadata": {},
   "source": [
    "----------------\n",
    "\n",
    "### Appendix A. Compute mesh density "
   ]
  },
  {
   "cell_type": "code",
   "execution_count": null,
   "metadata": {},
   "outputs": [],
   "source": [
    "face_file = '../mesh/surf_gs1.0_noter_split.face'  # .face file\n",
    "vert_file = '../mesh/surf_gs1.0_noter_split.vert'  # .vert file\n",
    "face = open(face_file, 'r').read()\n",
    "vert = open(vert_file, 'r').read()\n",
    "faces = np.vstack(np.char.split(face.split('\\n')[0:-1]))[:,:3].astype(int) - 1\n",
    "verts = np.vstack(np.char.split(vert.split('\\n')[0:-1]))[:,:3].astype(float)\n",
    "\n",
    "L0 = verts[faces[:, 1]] - verts[faces[:, 0]]\n",
    "L2 = verts[faces[:, 0]] - verts[faces[:, 2]]\n",
    "normal = np.cross(L0, L2)\n",
    "area = np.sqrt(np.sum(normal**2, axis=1)) / 2\n",
    "\n",
    "mesh_density = faces.shape[0] / area.sum()"
   ]
  }
 ],
 "metadata": {
  "kernelspec": {
   "display_name": "Python 3",
   "language": "python",
   "name": "python3"
  },
  "language_info": {
   "codemirror_mode": {
    "name": "ipython",
    "version": 3
   },
   "file_extension": ".py",
   "mimetype": "text/x-python",
   "name": "python",
   "nbconvert_exporter": "python",
   "pygments_lexer": "ipython3",
   "version": "3.9.1"
  }
 },
 "nbformat": 4,
 "nbformat_minor": 4
}
