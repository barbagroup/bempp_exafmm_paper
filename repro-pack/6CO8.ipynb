{
 "cells": [
  {
   "cell_type": "code",
   "execution_count": 1,
   "metadata": {},
   "outputs": [],
   "source": [
    "import seaborn as sns\n",
    "import pandas as pd\n",
    "import numpy as np\n",
    "from matplotlib import pyplot as plt\n",
    "from scripts.result_parser import get_df\n",
    "%matplotlib inline"
   ]
  },
  {
   "cell_type": "markdown",
   "metadata": {},
   "source": [
    "## Free energy of Zika virus\n",
    "\n",
    "Next, we present a more challenging problem that studies the free energy of the Zika virus.\n",
    "We acquired the molecular structure (6CO8) from ?, parameterized it with pdb2pqr and generated mesh on the solvent-excluded surface using Nanoshaper.\n",
    "The prepared structure contains about 1.6 million atoms (charges) and our mesh has around 10 million boundary elements, which corresponds to an element density of ?.\n",
    "In this experiment, 3 quadrature points were used for regular Galerkin integrals over disjoint elements. The FMM expansion order was 4 and the tolerance of GMRES was $10^{-4}$.\n",
    "\n",
    "Table ? shows the result and performance using both formulations."
   ]
  },
  {
   "cell_type": "code",
   "execution_count": 2,
   "metadata": {},
   "outputs": [
    {
     "data": {
      "text/html": [
       "<div>\n",
       "<style scoped>\n",
       "    .dataframe tbody tr th:only-of-type {\n",
       "        vertical-align: middle;\n",
       "    }\n",
       "\n",
       "    .dataframe tbody tr th {\n",
       "        vertical-align: top;\n",
       "    }\n",
       "\n",
       "    .dataframe thead th {\n",
       "        text-align: right;\n",
       "    }\n",
       "</style>\n",
       "<table border=\"1\" class=\"dataframe\">\n",
       "  <thead>\n",
       "    <tr style=\"text-align: right;\">\n",
       "      <th></th>\n",
       "      <th>t_total_assembly</th>\n",
       "      <th>t_total_gmres</th>\n",
       "      <th>num_iter</th>\n",
       "      <th>e_solv [kcal/Mol]</th>\n",
       "      <th>memory [GB]</th>\n",
       "      <th>t_fmm_init</th>\n",
       "      <th>t_singular_assembler</th>\n",
       "      <th>t_assemble_sparse</th>\n",
       "      <th>t_assembly_other</th>\n",
       "      <th>t_singular_correction</th>\n",
       "      <th>t_laplace</th>\n",
       "      <th>t_helmholtz</th>\n",
       "      <th>t_avg_laplace</th>\n",
       "      <th>t_avg_helmholtz</th>\n",
       "      <th>t_gmres_other</th>\n",
       "    </tr>\n",
       "  </thead>\n",
       "  <tbody>\n",
       "    <tr>\n",
       "      <th>direct</th>\n",
       "      <td>1505.478204</td>\n",
       "      <td>9359.422097</td>\n",
       "      <td>105</td>\n",
       "      <td>-116587.549968</td>\n",
       "      <td>111.834920</td>\n",
       "      <td>143.466971</td>\n",
       "      <td>465.879339</td>\n",
       "      <td>14.27</td>\n",
       "      <td>881.861894</td>\n",
       "      <td>610.815506</td>\n",
       "      <td>2109.317258</td>\n",
       "      <td>5738.135942</td>\n",
       "      <td>4.928311</td>\n",
       "      <td>13.406860</td>\n",
       "      <td>901.153392</td>\n",
       "    </tr>\n",
       "    <tr>\n",
       "      <th>Juffer</th>\n",
       "      <td>7180.632862</td>\n",
       "      <td>9510.991671</td>\n",
       "      <td>37</td>\n",
       "      <td>-116190.917437</td>\n",
       "      <td>172.844268</td>\n",
       "      <td>162.679122</td>\n",
       "      <td>665.395250</td>\n",
       "      <td>96.15</td>\n",
       "      <td>6256.408490</td>\n",
       "      <td>532.724651</td>\n",
       "      <td>1543.242236</td>\n",
       "      <td>5731.557996</td>\n",
       "      <td>4.946289</td>\n",
       "      <td>13.360275</td>\n",
       "      <td>1703.466788</td>\n",
       "    </tr>\n",
       "  </tbody>\n",
       "</table>\n",
       "</div>"
      ],
      "text/plain": [
       "        t_total_assembly  t_total_gmres  num_iter  e_solv [kcal/Mol]  \\\n",
       "direct       1505.478204    9359.422097       105     -116587.549968   \n",
       "Juffer       7180.632862    9510.991671        37     -116190.917437   \n",
       "\n",
       "        memory [GB]  t_fmm_init  t_singular_assembler  t_assemble_sparse  \\\n",
       "direct   111.834920  143.466971            465.879339              14.27   \n",
       "Juffer   172.844268  162.679122            665.395250              96.15   \n",
       "\n",
       "        t_assembly_other  t_singular_correction    t_laplace  t_helmholtz  \\\n",
       "direct        881.861894             610.815506  2109.317258  5738.135942   \n",
       "Juffer       6256.408490             532.724651  1543.242236  5731.557996   \n",
       "\n",
       "        t_avg_laplace  t_avg_helmholtz  t_gmres_other  \n",
       "direct       4.928311        13.406860     901.153392  \n",
       "Juffer       4.946289        13.360275    1703.466788  "
      ]
     },
     "execution_count": 2,
     "metadata": {},
     "output_type": "execute_result"
    }
   ],
   "source": [
    "direct_6CO8_df = get_df('runs/6CO8/direct/', formulation='direct', skip4=True)\n",
    "juffer_6CO8_df = get_df('runs/6CO8/juffer/', formulation='juffer', skip4=True)\n",
    "zika_df = pd.concat([direct_6CO8_df, juffer_6CO8_df])\n",
    "zika_df.index = ['direct', 'Juffer']\n",
    "zika_df"
   ]
  },
  {
   "cell_type": "markdown",
   "metadata": {},
   "source": [
    "-------\n",
    "\n",
    "### Appendix:\n",
    "\n",
    "1. results using various regular quadrature order\n",
    "\n",
    "| quadrature order | expansion order | tol  | e_solv     | gmres time (s) | # iter |\n",
    "|:----------------:|-----------------|------|------------|----------------|--------|\n",
    "|         1        | 4               | 1e-4 | -123693.42 | 4149.30        | 105    |\n",
    "|         2        | 4               | 1e-4 | -116587.55 | 10786.23       | 105    |\n",
    "|         3        | 4               | 1e-4 | -116491.99 | 13273.08       | 105    |\n",
    "|         4        | 4               | 1e-4 | -116746.19 | 20891.13       | 105    |\n",
    "|         4        | 5               | 1e-4 | -116676.47 | 75556.11       | 320    |\n",
    "\n",
    "2. result from PyGBe: -117261.125498 kcal/mol"
   ]
  },
  {
   "cell_type": "code",
   "execution_count": null,
   "metadata": {},
   "outputs": [],
   "source": []
  }
 ],
 "metadata": {
  "kernelspec": {
   "display_name": "Python 3",
   "language": "python",
   "name": "python3"
  },
  "language_info": {
   "codemirror_mode": {
    "name": "ipython",
    "version": 3
   },
   "file_extension": ".py",
   "mimetype": "text/x-python",
   "name": "python",
   "nbconvert_exporter": "python",
   "pygments_lexer": "ipython3",
   "version": "3.6.10"
  }
 },
 "nbformat": 4,
 "nbformat_minor": 4
}
