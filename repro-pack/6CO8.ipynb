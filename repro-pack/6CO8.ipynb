{
 "cells": [
  {
   "cell_type": "code",
   "execution_count": 1,
   "metadata": {},
   "outputs": [],
   "source": [
    "import pandas as pd\n",
    "import numpy as np\n",
    "from matplotlib import pyplot as plt\n",
    "from scripts.result_parser import PLOT_PARAMS, get_df"
   ]
  },
  {
   "cell_type": "markdown",
   "metadata": {},
   "source": [
    "## Free energy of Zika virus\n",
    "\n",
    "Finally, we present a more challenging problem that studies the free energy of the Zika virus.\n",
    "We acquired the molecular structure (6CO8) from Protein Data Bank, parameterized it with pdb2pqr and generated mesh on the solvent-excluded surface using Nanoshaper.\n",
    "The structure contains about 1.6 million atoms (charges) and our mesh has around 10 million boundary elements.\n",
    "In this experiment, 3 quadrature points were used for regular Galerkin integrals over disjoint elements. The FMM expansion order was 4 and the tolerance of GMRES was $10^{-4}$.\n",
    "\n",
    "The table below shows the result and performance using both formulations."
   ]
  },
  {
   "cell_type": "code",
   "execution_count": 2,
   "metadata": {},
   "outputs": [
    {
     "data": {
      "text/html": [
       "<div>\n",
       "<style scoped>\n",
       "    .dataframe tbody tr th:only-of-type {\n",
       "        vertical-align: middle;\n",
       "    }\n",
       "\n",
       "    .dataframe tbody tr th {\n",
       "        vertical-align: top;\n",
       "    }\n",
       "\n",
       "    .dataframe thead th {\n",
       "        text-align: right;\n",
       "    }\n",
       "</style>\n",
       "<table border=\"1\" class=\"dataframe\">\n",
       "  <thead>\n",
       "    <tr style=\"text-align: right;\">\n",
       "      <th></th>\n",
       "      <th>t_total_assembly</th>\n",
       "      <th>t_total_gmres</th>\n",
       "      <th>num_iter</th>\n",
       "      <th>e_solv [kcal/Mol]</th>\n",
       "      <th>memory [GB]</th>\n",
       "      <th>t_fmm_init</th>\n",
       "      <th>t_singular_assembler</th>\n",
       "      <th>t_assemble_sparse</th>\n",
       "      <th>t_assembly_other</th>\n",
       "      <th>t_singular_correction</th>\n",
       "      <th>t_laplace</th>\n",
       "      <th>t_helmholtz</th>\n",
       "      <th>t_avg_laplace</th>\n",
       "      <th>t_avg_helmholtz</th>\n",
       "      <th>t_gmres_other</th>\n",
       "    </tr>\n",
       "  </thead>\n",
       "  <tbody>\n",
       "    <tr>\n",
       "      <th>direct</th>\n",
       "      <td>1534.450776</td>\n",
       "      <td>9470.869895</td>\n",
       "      <td>105</td>\n",
       "      <td>-116587.549968</td>\n",
       "      <td>109.725492</td>\n",
       "      <td>156.044683</td>\n",
       "      <td>466.436640</td>\n",
       "      <td>25.74</td>\n",
       "      <td>886.229454</td>\n",
       "      <td>791.160887</td>\n",
       "      <td>2130.213909</td>\n",
       "      <td>5670.189209</td>\n",
       "      <td>4.977135</td>\n",
       "      <td>13.248106</td>\n",
       "      <td>879.305890</td>\n",
       "    </tr>\n",
       "    <tr>\n",
       "      <th>Juffer</th>\n",
       "      <td>7766.815987</td>\n",
       "      <td>5009.352236</td>\n",
       "      <td>17</td>\n",
       "      <td>-116255.417177</td>\n",
       "      <td>174.958108</td>\n",
       "      <td>151.262922</td>\n",
       "      <td>651.984174</td>\n",
       "      <td>98.07</td>\n",
       "      <td>6865.498891</td>\n",
       "      <td>460.615885</td>\n",
       "      <td>776.339616</td>\n",
       "      <td>2796.233184</td>\n",
       "      <td>5.107497</td>\n",
       "      <td>13.379106</td>\n",
       "      <td>976.163552</td>\n",
       "    </tr>\n",
       "  </tbody>\n",
       "</table>\n",
       "</div>"
      ],
      "text/plain": [
       "        t_total_assembly  t_total_gmres  num_iter  e_solv [kcal/Mol]  \\\n",
       "direct       1534.450776    9470.869895       105     -116587.549968   \n",
       "Juffer       7766.815987    5009.352236        17     -116255.417177   \n",
       "\n",
       "        memory [GB]  t_fmm_init  t_singular_assembler  t_assemble_sparse  \\\n",
       "direct   109.725492  156.044683            466.436640              25.74   \n",
       "Juffer   174.958108  151.262922            651.984174              98.07   \n",
       "\n",
       "        t_assembly_other  t_singular_correction    t_laplace  t_helmholtz  \\\n",
       "direct        886.229454             791.160887  2130.213909  5670.189209   \n",
       "Juffer       6865.498891             460.615885   776.339616  2796.233184   \n",
       "\n",
       "        t_avg_laplace  t_avg_helmholtz  t_gmres_other  \n",
       "direct       4.977135        13.248106     879.305890  \n",
       "Juffer       5.107497        13.379106     976.163552  "
      ]
     },
     "execution_count": 2,
     "metadata": {},
     "output_type": "execute_result"
    }
   ],
   "source": [
    "direct_6CO8_df = get_df('runs/6CO8/direct/', formulation='direct', skip4=True)\n",
    "juffer_6CO8_df = get_df('runs/6CO8/juffer/', formulation='juffer', skip4=True)\n",
    "zika_df = pd.concat([direct_6CO8_df, juffer_6CO8_df])\n",
    "zika_df.index = ['direct', 'Juffer']\n",
    "zika_df"
   ]
  },
  {
   "cell_type": "markdown",
   "metadata": {},
   "source": [
    "-------\n",
    "\n",
    "### Appendix:\n",
    "\n",
    "1. results using various regular quadrature order\n",
    "\n",
    "| quadrature order | expansion order | tol  | e_solv     | gmres time (s) | # iter |\n",
    "|:----------------:|-----------------|------|------------|----------------|--------|\n",
    "|         1        | 4               | 1e-4 | -123693.42 | 4149.30        | 105    |\n",
    "|         2        | 4               | 1e-4 | -116587.55 | 10786.23       | 105    |\n",
    "|         3        | 4               | 1e-4 | -116491.99 | 13273.08       | 105    |\n",
    "|         4        | 4               | 1e-4 | -116746.19 | 20891.13       | 105    |\n",
    "\n",
    "2. result from PyGBe: -117261.125498 kcal/mol"
   ]
  },
  {
   "cell_type": "code",
   "execution_count": null,
   "metadata": {},
   "outputs": [],
   "source": []
  }
 ],
 "metadata": {
  "kernelspec": {
   "display_name": "Python 3",
   "language": "python",
   "name": "python3"
  },
  "language_info": {
   "codemirror_mode": {
    "name": "ipython",
    "version": 3
   },
   "file_extension": ".py",
   "mimetype": "text/x-python",
   "name": "python",
   "nbconvert_exporter": "python",
   "pygments_lexer": "ipython3",
   "version": "3.6.10"
  }
 },
 "nbformat": 4,
 "nbformat_minor": 4
}
